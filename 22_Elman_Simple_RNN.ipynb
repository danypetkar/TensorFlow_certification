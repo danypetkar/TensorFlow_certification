{
 "cells": [
  {
   "cell_type": "code",
   "execution_count": 1,
   "id": "8127e218",
   "metadata": {},
   "outputs": [],
   "source": [
    "import tensorflow as tf\n",
    "from tensorflow.keras.preprocessing.text import Tokenizer\n",
    "from tensorflow.keras.preprocessing.sequence import pad_sequences\n",
    "import numpy as np\n",
    "import pandas as pd"
   ]
  },
  {
   "cell_type": "code",
   "execution_count": 2,
   "id": "f040ce0f",
   "metadata": {},
   "outputs": [],
   "source": [
    "dataset = pd.read_csv('C:\\\\Users\\\\dany\\\\.keras\\\\datasets\\\\reviews.csv')"
   ]
  },
  {
   "cell_type": "code",
   "execution_count": 3,
   "id": "63cc92e4",
   "metadata": {},
   "outputs": [
    {
     "data": {
      "text/html": [
       "<div>\n",
       "<style scoped>\n",
       "    .dataframe tbody tr th:only-of-type {\n",
       "        vertical-align: middle;\n",
       "    }\n",
       "\n",
       "    .dataframe tbody tr th {\n",
       "        vertical-align: top;\n",
       "    }\n",
       "\n",
       "    .dataframe thead th {\n",
       "        text-align: right;\n",
       "    }\n",
       "</style>\n",
       "<table border=\"1\" class=\"dataframe\">\n",
       "  <thead>\n",
       "    <tr style=\"text-align: right;\">\n",
       "      <th></th>\n",
       "      <th>Unnamed: 0</th>\n",
       "      <th>text</th>\n",
       "      <th>sentiment</th>\n",
       "    </tr>\n",
       "  </thead>\n",
       "  <tbody>\n",
       "    <tr>\n",
       "      <th>0</th>\n",
       "      <td>0</td>\n",
       "      <td>So there is no way for me to plug it in here i...</td>\n",
       "      <td>0</td>\n",
       "    </tr>\n",
       "    <tr>\n",
       "      <th>1</th>\n",
       "      <td>1</td>\n",
       "      <td>Good case Excellent value.</td>\n",
       "      <td>1</td>\n",
       "    </tr>\n",
       "    <tr>\n",
       "      <th>2</th>\n",
       "      <td>2</td>\n",
       "      <td>Great for the jawbone.</td>\n",
       "      <td>1</td>\n",
       "    </tr>\n",
       "    <tr>\n",
       "      <th>3</th>\n",
       "      <td>3</td>\n",
       "      <td>Tied to charger for conversations lasting more...</td>\n",
       "      <td>0</td>\n",
       "    </tr>\n",
       "    <tr>\n",
       "      <th>4</th>\n",
       "      <td>4</td>\n",
       "      <td>The mic is great.</td>\n",
       "      <td>1</td>\n",
       "    </tr>\n",
       "  </tbody>\n",
       "</table>\n",
       "</div>"
      ],
      "text/plain": [
       "   Unnamed: 0                                               text  sentiment\n",
       "0           0  So there is no way for me to plug it in here i...          0\n",
       "1           1                         Good case Excellent value.          1\n",
       "2           2                             Great for the jawbone.          1\n",
       "3           3  Tied to charger for conversations lasting more...          0\n",
       "4           4                                  The mic is great.          1"
      ]
     },
     "execution_count": 3,
     "metadata": {},
     "output_type": "execute_result"
    }
   ],
   "source": [
    "dataset.head()"
   ]
  },
  {
   "cell_type": "code",
   "execution_count": 4,
   "id": "d8ddb9cd",
   "metadata": {},
   "outputs": [],
   "source": [
    "sentences = dataset['text'].tolist()"
   ]
  },
  {
   "cell_type": "code",
   "execution_count": 5,
   "id": "312344e5",
   "metadata": {},
   "outputs": [],
   "source": [
    "lables = dataset['sentiment'].tolist()"
   ]
  },
  {
   "cell_type": "code",
   "execution_count": 6,
   "id": "623453e2",
   "metadata": {},
   "outputs": [
    {
     "name": "stdout",
     "output_type": "stream",
     "text": [
      "So there is no way for me to plug it in here in the US unless I go by a converter.\n",
      "0\n",
      "\n",
      "\n",
      "Good case Excellent value.\n",
      "1\n",
      "\n",
      "\n"
     ]
    }
   ],
   "source": [
    "for x in range(2):\n",
    "    print(sentences[x])\n",
    "    print(lables[x])\n",
    "    print('\\n')"
   ]
  },
  {
   "cell_type": "code",
   "execution_count": 7,
   "id": "79d86ae4",
   "metadata": {},
   "outputs": [],
   "source": [
    "import tensorflow_datasets as tfds"
   ]
  },
  {
   "cell_type": "code",
   "execution_count": 8,
   "id": "246ad8cd",
   "metadata": {},
   "outputs": [],
   "source": [
    "vocab_size = 1000\n",
    "tokenizer = tfds.deprecated.text.SubwordTextEncoder.build_from_corpus(sentences,vocab_size,max_subword_length=5)"
   ]
  },
  {
   "cell_type": "code",
   "execution_count": 9,
   "id": "5db00889",
   "metadata": {},
   "outputs": [
    {
     "name": "stdout",
     "output_type": "stream",
     "text": [
      "vacab size is:  999\n"
     ]
    }
   ],
   "source": [
    "print(\"vacab size is: \",tokenizer.vocab_size)"
   ]
  },
  {
   "cell_type": "code",
   "execution_count": 10,
   "id": "de5a571e",
   "metadata": {},
   "outputs": [
    {
     "name": "stdout",
     "output_type": "stream",
     "text": [
      "I have to jiggle the plug to get it to line up right to get decent volume.\n",
      "[4, 31, 6, 849, 162, 450, 12, 1, 600, 438, 775, 6, 175, 14, 6, 55, 213, 159, 474, 775, 6, 175, 614, 380, 295, 148, 72, 789]\n"
     ]
    }
   ],
   "source": [
    "num = 5\n",
    "print(sentences[num])\n",
    "encoder = tokenizer.encode(sentences[num])\n",
    "print(encoder)"
   ]
  },
  {
   "cell_type": "code",
   "execution_count": 11,
   "id": "a5a3d6fe",
   "metadata": {},
   "outputs": [
    {
     "name": "stdout",
     "output_type": "stream",
     "text": [
      "I \n",
      "have \n",
      "to \n",
      "j\n",
      "ig\n",
      "gl\n",
      "e \n",
      "the \n",
      "pl\n",
      "ug\n",
      " \n",
      "to \n",
      "get \n",
      "it \n",
      "to \n",
      "li\n",
      "ne \n",
      "up \n",
      "right\n",
      " \n",
      "to \n",
      "get \n",
      "dec\n",
      "ent \n",
      "vo\n",
      "lu\n",
      "me\n",
      ".\n"
     ]
    }
   ],
   "source": [
    "for i in encoder:\n",
    "    print(tokenizer.decode([i]))"
   ]
  },
  {
   "cell_type": "code",
   "execution_count": 12,
   "id": "4175b61e",
   "metadata": {},
   "outputs": [
    {
     "name": "stdout",
     "output_type": "stream",
     "text": [
      "[4, 31, 6, 849, 162, 450, 12, 1, 600, 438, 775, 6, 175, 14, 6, 55, 213, 159, 474, 775, 6, 175, 614, 380, 295, 148, 72, 789]\n"
     ]
    }
   ],
   "source": [
    "for i,sentence in enumerate(sentences):\n",
    "    sentences[i] = tokenizer.encode(sentence)\n",
    "print(sentences[5])"
   ]
  },
  {
   "cell_type": "code",
   "execution_count": 13,
   "id": "57d32a22",
   "metadata": {},
   "outputs": [],
   "source": [
    "max_length = 50\n",
    "trunc_type = 'post'\n",
    "padding_type = 'post'"
   ]
  },
  {
   "cell_type": "code",
   "execution_count": 14,
   "id": "c43d19ba",
   "metadata": {},
   "outputs": [],
   "source": [
    "sequences_padded = pad_sequences(sentences,maxlen=max_length,padding=padding_type,truncating=trunc_type)"
   ]
  },
  {
   "cell_type": "code",
   "execution_count": 15,
   "id": "bc66a3fa",
   "metadata": {},
   "outputs": [],
   "source": [
    "training_size = int(len(sentences)*0.8)"
   ]
  },
  {
   "cell_type": "code",
   "execution_count": 16,
   "id": "13a495f5",
   "metadata": {},
   "outputs": [],
   "source": [
    "training_sequences = sequences_padded[0:training_size]\n",
    "testing_sequences = sequences_padded[training_size:]\n",
    "training_labels = lables[0:training_size]\n",
    "testing_labels = lables[training_size:]"
   ]
  },
  {
   "cell_type": "code",
   "execution_count": 17,
   "id": "6f43bbc1",
   "metadata": {},
   "outputs": [],
   "source": [
    "training_labels_final = np.array(training_labels)\n",
    "testing_labels_final = np.array(testing_labels)"
   ]
  },
  {
   "cell_type": "code",
   "execution_count": 19,
   "id": "166e427a",
   "metadata": {},
   "outputs": [],
   "source": [
    "embedding_dim = 16\n",
    "model = tf.keras.Sequential([\n",
    "    tf.keras.layers.Embedding(vocab_size,embedding_dim,input_length=max_length),\n",
    "    tf.keras.layers.GlobalAveragePooling1D(),\n",
    "    tf.keras.layers.Dense(6,activation='relu'),\n",
    "    tf.keras.layers.Dense(1,activation='sigmoid')\n",
    "])"
   ]
  },
  {
   "cell_type": "code",
   "execution_count": 20,
   "id": "4c46ad75",
   "metadata": {},
   "outputs": [],
   "source": [
    "num_epochs = 30\n",
    "model.compile(loss='binary_crossentropy', optimizer='adam',metrics=['accuracy'])"
   ]
  },
  {
   "cell_type": "code",
   "execution_count": 22,
   "id": "d4378a85",
   "metadata": {},
   "outputs": [
    {
     "name": "stdout",
     "output_type": "stream",
     "text": [
      "Epoch 1/30\n",
      "50/50 [==============================] - 3s 7ms/step - loss: 0.6927 - accuracy: 0.5235 - val_loss: 0.6944 - val_accuracy: 0.4286\n",
      "Epoch 2/30\n",
      "50/50 [==============================] - 0s 5ms/step - loss: 0.6892 - accuracy: 0.5995 - val_loss: 0.6928 - val_accuracy: 0.4887\n",
      "Epoch 3/30\n",
      "50/50 [==============================] - 0s 5ms/step - loss: 0.6848 - accuracy: 0.5844 - val_loss: 0.6883 - val_accuracy: 0.5363\n",
      "Epoch 4/30\n",
      "50/50 [==============================] - 0s 4ms/step - loss: 0.6776 - accuracy: 0.6635 - val_loss: 0.6800 - val_accuracy: 0.5965\n",
      "Epoch 5/30\n",
      "50/50 [==============================] - 0s 4ms/step - loss: 0.6622 - accuracy: 0.7062 - val_loss: 0.6634 - val_accuracy: 0.6942\n",
      "Epoch 6/30\n",
      "50/50 [==============================] - 0s 4ms/step - loss: 0.6404 - accuracy: 0.7602 - val_loss: 0.6479 - val_accuracy: 0.6942\n",
      "Epoch 7/30\n",
      "50/50 [==============================] - 0s 3ms/step - loss: 0.6123 - accuracy: 0.7847 - val_loss: 0.6257 - val_accuracy: 0.7268\n",
      "Epoch 8/30\n",
      "50/50 [==============================] - 0s 3ms/step - loss: 0.5785 - accuracy: 0.8060 - val_loss: 0.5965 - val_accuracy: 0.7744\n",
      "Epoch 9/30\n",
      "50/50 [==============================] - 0s 3ms/step - loss: 0.5425 - accuracy: 0.8274 - val_loss: 0.5924 - val_accuracy: 0.7168\n",
      "Epoch 10/30\n",
      "50/50 [==============================] - 0s 3ms/step - loss: 0.5070 - accuracy: 0.8343 - val_loss: 0.5615 - val_accuracy: 0.7719\n",
      "Epoch 11/30\n",
      "50/50 [==============================] - 0s 3ms/step - loss: 0.4708 - accuracy: 0.8500 - val_loss: 0.5361 - val_accuracy: 0.7920\n",
      "Epoch 12/30\n",
      "50/50 [==============================] - 0s 3ms/step - loss: 0.4375 - accuracy: 0.8613 - val_loss: 0.5223 - val_accuracy: 0.7895\n",
      "Epoch 13/30\n",
      "50/50 [==============================] - 0s 3ms/step - loss: 0.4066 - accuracy: 0.8701 - val_loss: 0.5165 - val_accuracy: 0.7744\n",
      "Epoch 14/30\n",
      "50/50 [==============================] - 0s 3ms/step - loss: 0.3792 - accuracy: 0.8726 - val_loss: 0.5114 - val_accuracy: 0.7669\n",
      "Epoch 15/30\n",
      "50/50 [==============================] - 0s 3ms/step - loss: 0.3545 - accuracy: 0.8845 - val_loss: 0.5103 - val_accuracy: 0.7619\n",
      "Epoch 16/30\n",
      "50/50 [==============================] - 0s 3ms/step - loss: 0.3338 - accuracy: 0.8927 - val_loss: 0.4962 - val_accuracy: 0.7719\n",
      "Epoch 17/30\n",
      "50/50 [==============================] - 0s 3ms/step - loss: 0.3171 - accuracy: 0.8914 - val_loss: 0.5111 - val_accuracy: 0.7544\n",
      "Epoch 18/30\n",
      "50/50 [==============================] - 0s 3ms/step - loss: 0.2980 - accuracy: 0.9021 - val_loss: 0.5065 - val_accuracy: 0.7494\n",
      "Epoch 19/30\n",
      "50/50 [==============================] - 0s 3ms/step - loss: 0.2832 - accuracy: 0.9052 - val_loss: 0.4964 - val_accuracy: 0.7594\n",
      "Epoch 20/30\n",
      "50/50 [==============================] - 0s 3ms/step - loss: 0.2692 - accuracy: 0.9083 - val_loss: 0.5016 - val_accuracy: 0.7669\n",
      "Epoch 21/30\n",
      "50/50 [==============================] - 0s 3ms/step - loss: 0.2572 - accuracy: 0.9153 - val_loss: 0.5118 - val_accuracy: 0.7619\n",
      "Epoch 22/30\n",
      "50/50 [==============================] - 0s 3ms/step - loss: 0.2455 - accuracy: 0.9190 - val_loss: 0.5163 - val_accuracy: 0.7594\n",
      "Epoch 23/30\n",
      "50/50 [==============================] - 0s 3ms/step - loss: 0.2352 - accuracy: 0.9234 - val_loss: 0.5101 - val_accuracy: 0.7569\n",
      "Epoch 24/30\n",
      "50/50 [==============================] - 0s 4ms/step - loss: 0.2266 - accuracy: 0.9222 - val_loss: 0.5249 - val_accuracy: 0.7594\n",
      "Epoch 25/30\n",
      "50/50 [==============================] - 0s 3ms/step - loss: 0.2175 - accuracy: 0.9303 - val_loss: 0.5328 - val_accuracy: 0.7619\n",
      "Epoch 26/30\n",
      "50/50 [==============================] - 0s 4ms/step - loss: 0.2080 - accuracy: 0.9347 - val_loss: 0.5479 - val_accuracy: 0.7519\n",
      "Epoch 27/30\n",
      "50/50 [==============================] - 0s 3ms/step - loss: 0.1995 - accuracy: 0.9309 - val_loss: 0.5415 - val_accuracy: 0.7544\n",
      "Epoch 28/30\n",
      "50/50 [==============================] - 0s 3ms/step - loss: 0.1931 - accuracy: 0.9360 - val_loss: 0.5692 - val_accuracy: 0.7393\n",
      "Epoch 29/30\n",
      "50/50 [==============================] - 0s 4ms/step - loss: 0.1863 - accuracy: 0.9416 - val_loss: 0.5720 - val_accuracy: 0.7519\n",
      "Epoch 30/30\n",
      "50/50 [==============================] - 0s 4ms/step - loss: 0.1806 - accuracy: 0.9410 - val_loss: 0.6018 - val_accuracy: 0.7293\n"
     ]
    }
   ],
   "source": [
    "history = model.fit(training_sequences,training_labels_final,epochs=num_epochs,validation_data=(testing_sequences,testing_labels_final))"
   ]
  },
  {
   "cell_type": "code",
   "execution_count": 23,
   "id": "baad65a6",
   "metadata": {},
   "outputs": [
    {
     "data": {
      "image/png": "[encoded data removed]",
      "text/plain": [
       "<Figure size 432x288 with 1 Axes>"
      ]
     },
     "metadata": {
      "needs_background": "light"
     },
     "output_type": "display_data"
    },
    {
     "data": {
      "image/png": "[encoded data removed]",
      "text/plain": [
       "<Figure size 432x288 with 1 Axes>"
      ]
     },
     "metadata": {
      "needs_background": "light"
     },
     "output_type": "display_data"
    }
   ],
   "source": [
    "\n",
    "import matplotlib.pyplot as plt\n",
    "def plot_graphs(history,string):\n",
    "    plt.plot(history.history[string])\n",
    "    plt.plot(history.history['val_'+string])\n",
    "    plt.xlabel('Epochs')\n",
    "    plt.ylabel('string')\n",
    "    plt.legend([string,'val_'+string])\n",
    "    plt.show()\n",
    "\n",
    "plot_graphs(history,'accuracy')\n",
    "plot_graphs(history,'loss')"
   ]
  },
  {
   "cell_type": "code",
   "execution_count": 24,
   "id": "56f2915f",
   "metadata": {},
   "outputs": [],
   "source": [
    "def predict_review(model,new_sentences,maxlen=max_length,show_padded_sequence=True):\n",
    "    new_sequences = []\n",
    "    for i,frvw in enumerate(new_sentences):\n",
    "        new_sequences.append(tokenizer.encode(frvw))\n",
    "    trunc_type = 'post'\n",
    "    padding_type = 'post'\n",
    "    new_review_padded = pad_sequences(new_sequences,maxlen=max_length,padding=padding_type,truncating=trunc_type)\n",
    "    classes = model.predict(new_review_padded)\n",
    "    for x in range(len(new_sentences)):\n",
    "        if (show_padded_sequence):\n",
    "            print(new_review_padded[x])\n",
    "        print(new_sentences[x])\n",
    "        print(classes[x])\n",
    "        print('\\n')"
   ]
  },
  {
   "cell_type": "code",
   "execution_count": 25,
   "id": "6096f515",
   "metadata": {},
   "outputs": [],
   "source": [
    "fake_reviews = ['i love this phone',\"everything was cold\"]"
   ]
  },
  {
   "cell_type": "code",
   "execution_count": 26,
   "id": "5ee98b1e",
   "metadata": {},
   "outputs": [
    {
     "name": "stdout",
     "output_type": "stream",
     "text": [
      "[425 281  16  25   0   0   0   0   0   0   0   0   0   0   0   0   0   0\n",
      "   0   0   0   0   0   0   0   0   0   0   0   0   0   0   0   0   0   0\n",
      "   0   0   0   0   0   0   0   0   0   0   0   0   0   0]\n",
      "i love this phone\n",
      "[0.91950476]\n",
      "\n",
      "\n",
      "[272 100 775   9 525 843   0   0   0   0   0   0   0   0   0   0   0   0\n",
      "   0   0   0   0   0   0   0   0   0   0   0   0   0   0   0   0   0   0\n",
      "   0   0   0   0   0   0   0   0   0   0   0   0   0   0]\n",
      "everything was cold\n",
      "[0.5194055]\n",
      "\n",
      "\n"
     ]
    }
   ],
   "source": [
    "predict_review(model,fake_reviews)"
   ]
  },
  {
   "cell_type": "code",
   "execution_count": 39,
   "id": "afc7e688",
   "metadata": {},
   "outputs": [],
   "source": [
    "def fit_model_now(model,sentences):\n",
    "    model.compile(loss='binary_crossentropy',optimizer='adam',metrics=['accuracy'])\n",
    "    model.summary()\n",
    "    history = model.fit(training_sequences,training_labels_final,epochs=num_epochs,validation_data=(testing_sequences,testing_labels_final))\n",
    "    return history"
   ]
  },
  {
   "cell_type": "code",
   "execution_count": 40,
   "id": "0a0aa20a",
   "metadata": {},
   "outputs": [],
   "source": [
    "def plot_results(history):\n",
    "    plot_graphs(history,'accuracy')\n",
    "    plot_graphs(history,'loss')"
   ]
  },
  {
   "cell_type": "code",
   "execution_count": 41,
   "id": "5a2cdcee",
   "metadata": {},
   "outputs": [],
   "source": [
    "def fit_model_and_show_result(model,sentences):\n",
    "    history = fit_model_now(model,sentences)\n",
    "    plot_results(history)\n",
    "    predict_review(model,sentences)"
   ]
  },
  {
   "cell_type": "code",
   "execution_count": 42,
   "id": "ed6da4de",
   "metadata": {},
   "outputs": [],
   "source": [
    "model_bidi_lstm = tf.keras.Sequential([\n",
    "    tf.keras.layers.Embedding(vocab_size,embedding_dim,input_length=max_length),\n",
    "    tf.keras.layers.Bidirectional(tf.keras.layers.LSTM(embedding_dim)),\n",
    "    tf.keras.layers.Dense(6,activation='relu'),\n",
    "    tf.keras.layers.Dense(1,activation='sigmoid')\n",
    "])"
   ]
  },
  {
   "cell_type": "code",
   "execution_count": 43,
   "id": "abf6cafb",
   "metadata": {},
   "outputs": [
    {
     "name": "stdout",
     "output_type": "stream",
     "text": [
      "Model: \"sequential_4\"\n",
      "_________________________________________________________________\n",
      "Layer (type)                 Output Shape              Param #   \n",
      "=================================================================\n",
      "embedding_4 (Embedding)      (None, 50, 16)            16000     \n",
      "_________________________________________________________________\n",
      "bidirectional_3 (Bidirection (None, 32)                4224      \n",
      "_________________________________________________________________\n",
      "dense_8 (Dense)              (None, 6)                 198       \n",
      "_________________________________________________________________\n",
      "dense_9 (Dense)              (None, 1)                 7         \n",
      "=================================================================\n",
      "Total params: 20,429\n",
      "Trainable params: 20,429\n",
      "Non-trainable params: 0\n",
      "_________________________________________________________________\n",
      "Epoch 1/30\n",
      "50/50 [==============================] - 3s 22ms/step - loss: 0.6928 - accuracy: 0.5122 - val_loss: 0.6968 - val_accuracy: 0.4110\n",
      "Epoch 2/30\n",
      "50/50 [==============================] - 1s 12ms/step - loss: 0.6749 - accuracy: 0.6039 - val_loss: 0.6425 - val_accuracy: 0.7043\n",
      "Epoch 3/30\n",
      "50/50 [==============================] - 1s 11ms/step - loss: 0.5182 - accuracy: 0.7665 - val_loss: 0.5154 - val_accuracy: 0.7644\n",
      "Epoch 4/30\n",
      "50/50 [==============================] - 1s 11ms/step - loss: 0.3590 - accuracy: 0.8569 - val_loss: 0.5084 - val_accuracy: 0.7669\n",
      "Epoch 5/30\n",
      "50/50 [==============================] - 1s 11ms/step - loss: 0.2683 - accuracy: 0.8889 - val_loss: 0.5967 - val_accuracy: 0.7594\n",
      "Epoch 6/30\n",
      "50/50 [==============================] - 1s 11ms/step - loss: 0.2095 - accuracy: 0.9234 - val_loss: 0.6732 - val_accuracy: 0.7544\n",
      "Epoch 7/30\n",
      "50/50 [==============================] - 1s 11ms/step - loss: 0.1644 - accuracy: 0.9498 - val_loss: 0.7815 - val_accuracy: 0.7419\n",
      "Epoch 8/30\n",
      "50/50 [==============================] - 1s 11ms/step - loss: 0.1334 - accuracy: 0.9592 - val_loss: 0.7407 - val_accuracy: 0.7594\n",
      "Epoch 9/30\n",
      "50/50 [==============================] - 1s 11ms/step - loss: 0.1150 - accuracy: 0.9680 - val_loss: 0.9372 - val_accuracy: 0.7594\n",
      "Epoch 10/30\n",
      "50/50 [==============================] - 1s 11ms/step - loss: 0.1045 - accuracy: 0.9699 - val_loss: 1.0327 - val_accuracy: 0.7293\n",
      "Epoch 11/30\n",
      "50/50 [==============================] - 1s 11ms/step - loss: 0.0794 - accuracy: 0.9793 - val_loss: 1.0753 - val_accuracy: 0.7293\n",
      "Epoch 12/30\n",
      "50/50 [==============================] - 1s 11ms/step - loss: 0.0593 - accuracy: 0.9868 - val_loss: 1.0151 - val_accuracy: 0.7268\n",
      "Epoch 13/30\n",
      "50/50 [==============================] - 1s 11ms/step - loss: 0.0943 - accuracy: 0.9755 - val_loss: 1.0270 - val_accuracy: 0.7293\n",
      "Epoch 14/30\n",
      "50/50 [==============================] - 1s 11ms/step - loss: 0.0460 - accuracy: 0.9918 - val_loss: 1.1196 - val_accuracy: 0.7343\n",
      "Epoch 15/30\n",
      "50/50 [==============================] - 1s 11ms/step - loss: 0.0394 - accuracy: 0.9944 - val_loss: 1.2719 - val_accuracy: 0.7318\n",
      "Epoch 16/30\n",
      "50/50 [==============================] - 1s 11ms/step - loss: 0.0309 - accuracy: 0.9956 - val_loss: 1.2862 - val_accuracy: 0.7368\n",
      "Epoch 17/30\n",
      "50/50 [==============================] - 1s 11ms/step - loss: 0.0947 - accuracy: 0.9755 - val_loss: 1.4274 - val_accuracy: 0.7118\n",
      "Epoch 18/30\n",
      "50/50 [==============================] - 1s 11ms/step - loss: 0.1132 - accuracy: 0.9699 - val_loss: 0.9915 - val_accuracy: 0.7444\n",
      "Epoch 19/30\n",
      "50/50 [==============================] - 1s 11ms/step - loss: 0.0451 - accuracy: 0.9944 - val_loss: 1.1086 - val_accuracy: 0.7444\n",
      "Epoch 20/30\n",
      "50/50 [==============================] - 1s 11ms/step - loss: 0.0271 - accuracy: 0.9969 - val_loss: 1.2256 - val_accuracy: 0.7368\n",
      "Epoch 21/30\n",
      "50/50 [==============================] - 1s 11ms/step - loss: 0.0191 - accuracy: 0.9981 - val_loss: 1.2686 - val_accuracy: 0.7419\n",
      "Epoch 22/30\n",
      "50/50 [==============================] - 1s 11ms/step - loss: 0.0150 - accuracy: 0.9987 - val_loss: 1.3257 - val_accuracy: 0.7469\n",
      "Epoch 23/30\n",
      "50/50 [==============================] - 1s 11ms/step - loss: 0.0108 - accuracy: 0.9994 - val_loss: 1.3695 - val_accuracy: 0.7444\n",
      "Epoch 24/30\n",
      "50/50 [==============================] - 1s 10ms/step - loss: 0.0088 - accuracy: 0.9994 - val_loss: 1.4162 - val_accuracy: 0.7419\n",
      "Epoch 25/30\n",
      "50/50 [==============================] - 1s 11ms/step - loss: 0.0062 - accuracy: 0.9994 - val_loss: 1.4745 - val_accuracy: 0.7444\n",
      "Epoch 26/30\n",
      "50/50 [==============================] - 1s 10ms/step - loss: 0.0043 - accuracy: 1.0000 - val_loss: 1.5199 - val_accuracy: 0.7393\n",
      "Epoch 27/30\n",
      "50/50 [==============================] - 0s 10ms/step - loss: 0.0034 - accuracy: 1.0000 - val_loss: 1.5545 - val_accuracy: 0.7444\n",
      "Epoch 28/30\n",
      "50/50 [==============================] - 0s 10ms/step - loss: 0.0029 - accuracy: 1.0000 - val_loss: 1.6005 - val_accuracy: 0.7419\n",
      "Epoch 29/30\n",
      "50/50 [==============================] - 0s 9ms/step - loss: 0.0025 - accuracy: 1.0000 - val_loss: 1.6424 - val_accuracy: 0.7419\n",
      "Epoch 30/30\n",
      "50/50 [==============================] - 0s 10ms/step - loss: 0.0022 - accuracy: 1.0000 - val_loss: 1.6723 - val_accuracy: 0.7419\n"
     ]
    },
    {
     "data": {
      "image/png": "[encoded data removed]",
      "text/plain": [
       "<Figure size 432x288 with 1 Axes>"
      ]
     },
     "metadata": {
      "needs_background": "light"
     },
     "output_type": "display_data"
    },
    {
     "data": {
      "image/png": "[encoded data removed]",
      "text/plain": [
       "<Figure size 432x288 with 1 Axes>"
      ]
     },
     "metadata": {
      "needs_background": "light"
     },
     "output_type": "display_data"
    },
    {
     "name": "stdout",
     "output_type": "stream",
     "text": [
      "[425 281  16  25   0   0   0   0   0   0   0   0   0   0   0   0   0   0\n",
      "   0   0   0   0   0   0   0   0   0   0   0   0   0   0   0   0   0   0\n",
      "   0   0   0   0   0   0   0   0   0   0   0   0   0   0]\n",
      "i love this phone\n",
      "[0.9995701]\n",
      "\n",
      "\n",
      "[272 100 775   9 525 843   0   0   0   0   0   0   0   0   0   0   0   0\n",
      "   0   0   0   0   0   0   0   0   0   0   0   0   0   0   0   0   0   0\n",
      "   0   0   0   0   0   0   0   0   0   0   0   0   0   0]\n",
      "everything was cold\n",
      "[0.91087633]\n",
      "\n",
      "\n"
     ]
    }
   ],
   "source": [
    "fit_model_and_show_result(model_bidi_lstm,fake_reviews)"
   ]
  },
  {
   "cell_type": "code",
   "execution_count": 44,
   "id": "375728a0",
   "metadata": {},
   "outputs": [],
   "source": [
    "\n",
    "model_multiple_bidi_lstm = tf.keras.Sequential([\n",
    "    tf.keras.layers.Embedding(vocab_size,embedding_dim,input_length= max_length),\n",
    "    tf.keras.layers.Bidirectional(tf.keras.layers.LSTM(embedding_dim,return_sequences=True)),\n",
    "    tf.keras.layers.Bidirectional(tf.keras.layers.LSTM(embedding_dim)),\n",
    "    tf.keras.layers.Dense(6,activation='relu'),\n",
    "    tf.keras.layers.Dense(1,activation='sigmoid')\n",
    "])"
   ]
  },
  {
   "cell_type": "code",
   "execution_count": 45,
   "id": "e282d42e",
   "metadata": {},
   "outputs": [
    {
     "name": "stdout",
     "output_type": "stream",
     "text": [
      "Model: \"sequential_5\"\n",
      "_________________________________________________________________\n",
      "Layer (type)                 Output Shape              Param #   \n",
      "=================================================================\n",
      "embedding_5 (Embedding)      (None, 50, 16)            16000     \n",
      "_________________________________________________________________\n",
      "bidirectional_4 (Bidirection (None, 50, 32)            4224      \n",
      "_________________________________________________________________\n",
      "bidirectional_5 (Bidirection (None, 32)                6272      \n",
      "_________________________________________________________________\n",
      "dense_10 (Dense)             (None, 6)                 198       \n",
      "_________________________________________________________________\n",
      "dense_11 (Dense)             (None, 1)                 7         \n",
      "=================================================================\n",
      "Total params: 26,701\n",
      "Trainable params: 26,701\n",
      "Non-trainable params: 0\n",
      "_________________________________________________________________\n",
      "Epoch 1/30\n",
      "50/50 [==============================] - 4s 32ms/step - loss: 0.6908 - accuracy: 0.5323 - val_loss: 0.7052 - val_accuracy: 0.4261\n",
      "Epoch 2/30\n",
      "50/50 [==============================] - 1s 16ms/step - loss: 0.6115 - accuracy: 0.6604 - val_loss: 0.5405 - val_accuracy: 0.7544\n",
      "Epoch 3/30\n",
      "50/50 [==============================] - 1s 16ms/step - loss: 0.3884 - accuracy: 0.8362 - val_loss: 0.5901 - val_accuracy: 0.7419\n",
      "Epoch 4/30\n",
      "50/50 [==============================] - 1s 17ms/step - loss: 0.2869 - accuracy: 0.8939 - val_loss: 0.6588 - val_accuracy: 0.7168\n",
      "Epoch 5/30\n",
      "50/50 [==============================] - 1s 18ms/step - loss: 0.2224 - accuracy: 0.9328 - val_loss: 0.6413 - val_accuracy: 0.7594\n",
      "Epoch 6/30\n",
      "50/50 [==============================] - 1s 18ms/step - loss: 0.1760 - accuracy: 0.9435 - val_loss: 0.6671 - val_accuracy: 0.7694\n",
      "Epoch 7/30\n",
      "50/50 [==============================] - 1s 19ms/step - loss: 0.1430 - accuracy: 0.9611 - val_loss: 0.8075 - val_accuracy: 0.7444\n",
      "Epoch 8/30\n",
      "50/50 [==============================] - 1s 18ms/step - loss: 0.1149 - accuracy: 0.9718 - val_loss: 0.8198 - val_accuracy: 0.7594\n",
      "Epoch 9/30\n",
      "50/50 [==============================] - 1s 18ms/step - loss: 0.1110 - accuracy: 0.9705 - val_loss: 0.8868 - val_accuracy: 0.7469\n",
      "Epoch 10/30\n",
      "50/50 [==============================] - 1s 18ms/step - loss: 0.1103 - accuracy: 0.9674 - val_loss: 0.9352 - val_accuracy: 0.7393\n",
      "Epoch 11/30\n",
      "50/50 [==============================] - 1s 18ms/step - loss: 0.1086 - accuracy: 0.9705 - val_loss: 0.8593 - val_accuracy: 0.7419\n",
      "Epoch 12/30\n",
      "50/50 [==============================] - 1s 18ms/step - loss: 0.0945 - accuracy: 0.9743 - val_loss: 0.9597 - val_accuracy: 0.7444\n",
      "Epoch 13/30\n",
      "50/50 [==============================] - 1s 18ms/step - loss: 0.0677 - accuracy: 0.9843 - val_loss: 0.9726 - val_accuracy: 0.7444\n",
      "Epoch 14/30\n",
      "50/50 [==============================] - 1s 18ms/step - loss: 0.0603 - accuracy: 0.9874 - val_loss: 1.0470 - val_accuracy: 0.7469\n",
      "Epoch 15/30\n",
      "50/50 [==============================] - 1s 16ms/step - loss: 0.0563 - accuracy: 0.9887 - val_loss: 1.1328 - val_accuracy: 0.7544\n",
      "Epoch 16/30\n",
      "50/50 [==============================] - 1s 18ms/step - loss: 0.0490 - accuracy: 0.9906 - val_loss: 1.1449 - val_accuracy: 0.7469\n",
      "Epoch 17/30\n",
      "50/50 [==============================] - 1s 19ms/step - loss: 0.0493 - accuracy: 0.9900 - val_loss: 1.1084 - val_accuracy: 0.7444\n",
      "Epoch 18/30\n",
      "50/50 [==============================] - 1s 17ms/step - loss: 0.0436 - accuracy: 0.9912 - val_loss: 1.1939 - val_accuracy: 0.7343\n",
      "Epoch 19/30\n",
      "50/50 [==============================] - 1s 16ms/step - loss: 0.0461 - accuracy: 0.9893 - val_loss: 1.1397 - val_accuracy: 0.7318\n",
      "Epoch 20/30\n",
      "50/50 [==============================] - 1s 16ms/step - loss: 0.0772 - accuracy: 0.9780 - val_loss: 1.1425 - val_accuracy: 0.7494\n",
      "Epoch 21/30\n",
      "50/50 [==============================] - 1s 18ms/step - loss: 0.0697 - accuracy: 0.9780 - val_loss: 1.1005 - val_accuracy: 0.7419\n",
      "Epoch 22/30\n",
      "50/50 [==============================] - 1s 19ms/step - loss: 0.0599 - accuracy: 0.9824 - val_loss: 1.0927 - val_accuracy: 0.7419\n",
      "Epoch 23/30\n",
      "50/50 [==============================] - 1s 19ms/step - loss: 0.0407 - accuracy: 0.9906 - val_loss: 1.1327 - val_accuracy: 0.7419\n",
      "Epoch 24/30\n",
      "50/50 [==============================] - 1s 19ms/step - loss: 0.0513 - accuracy: 0.9856 - val_loss: 1.2359 - val_accuracy: 0.7368\n",
      "Epoch 25/30\n",
      "50/50 [==============================] - 1s 19ms/step - loss: 0.0413 - accuracy: 0.9881 - val_loss: 1.2158 - val_accuracy: 0.7393\n",
      "Epoch 26/30\n",
      "50/50 [==============================] - 1s 17ms/step - loss: 0.0354 - accuracy: 0.9931 - val_loss: 1.3270 - val_accuracy: 0.7318\n",
      "Epoch 27/30\n",
      "50/50 [==============================] - 1s 18ms/step - loss: 0.0344 - accuracy: 0.9918 - val_loss: 1.4313 - val_accuracy: 0.7268\n",
      "Epoch 28/30\n",
      "50/50 [==============================] - 1s 19ms/step - loss: 0.0337 - accuracy: 0.9918 - val_loss: 1.3171 - val_accuracy: 0.7444\n",
      "Epoch 29/30\n",
      "50/50 [==============================] - 1s 18ms/step - loss: 0.0257 - accuracy: 0.9937 - val_loss: 1.3842 - val_accuracy: 0.7368\n",
      "Epoch 30/30\n",
      "50/50 [==============================] - 1s 18ms/step - loss: 0.0241 - accuracy: 0.9931 - val_loss: 1.4875 - val_accuracy: 0.7318\n"
     ]
    },
    {
     "data": {
      "image/png": "[encoded data removed]",
      "text/plain": [
       "<Figure size 432x288 with 1 Axes>"
      ]
     },
     "metadata": {
      "needs_background": "light"
     },
     "output_type": "display_data"
    },
    {
     "data": {
      "image/png": "[encoded data removed]",
      "text/plain": [
       "<Figure size 432x288 with 1 Axes>"
      ]
     },
     "metadata": {
      "needs_background": "light"
     },
     "output_type": "display_data"
    },
    {
     "name": "stdout",
     "output_type": "stream",
     "text": [
      "[425 281  16  25   0   0   0   0   0   0   0   0   0   0   0   0   0   0\n",
      "   0   0   0   0   0   0   0   0   0   0   0   0   0   0   0   0   0   0\n",
      "   0   0   0   0   0   0   0   0   0   0   0   0   0   0]\n",
      "i love this phone\n",
      "[0.9998171]\n",
      "\n",
      "\n",
      "[272 100 775   9 525 843   0   0   0   0   0   0   0   0   0   0   0   0\n",
      "   0   0   0   0   0   0   0   0   0   0   0   0   0   0   0   0   0   0\n",
      "   0   0   0   0   0   0   0   0   0   0   0   0   0   0]\n",
      "everything was cold\n",
      "[0.21935621]\n",
      "\n",
      "\n"
     ]
    }
   ],
   "source": [
    "fit_model_and_show_result(model_multiple_bidi_lstm,fake_reviews)"
   ]
  },
  {
   "cell_type": "code",
   "execution_count": 46,
   "id": "58a319b2",
   "metadata": {},
   "outputs": [],
   "source": [
    "my_reviews = ['lovely','dreadful','stay away', 'everything was hot exactly as i wanted']"
   ]
  },
  {
   "cell_type": "code",
   "execution_count": 47,
   "id": "5ef6f635",
   "metadata": {},
   "outputs": [
    {
     "name": "stdout",
     "output_type": "stream",
     "text": [
      "======================================================\n",
      " embedded only:\n",
      " =======================\n",
      "lovely\n",
      "[0.9457895]\n",
      "\n",
      "\n",
      "dreadful\n",
      "[0.39961272]\n",
      "\n",
      "\n",
      "stay away\n",
      "[0.7198992]\n",
      "\n",
      "\n",
      "everything was hot exactly as i wanted\n",
      "[0.77480316]\n",
      "\n",
      "\n"
     ]
    }
   ],
   "source": [
    "print(\"======================================================\\n\",\"embedded only:\\n\",\"=======================\")\n",
    "predict_review(model,my_reviews,show_padded_sequence=False)"
   ]
  },
  {
   "cell_type": "code",
   "execution_count": 48,
   "id": "6abd08d4",
   "metadata": {},
   "outputs": [
    {
     "name": "stdout",
     "output_type": "stream",
     "text": [
      "======================================================\n",
      " embedded only:\n",
      " =======================\n",
      "lovely\n",
      "[0.99570125]\n",
      "\n",
      "\n",
      "dreadful\n",
      "[0.00962507]\n",
      "\n",
      "\n",
      "stay away\n",
      "[0.01439237]\n",
      "\n",
      "\n",
      "everything was hot exactly as i wanted\n",
      "[0.99986494]\n",
      "\n",
      "\n"
     ]
    }
   ],
   "source": [
    "print(\"======================================================\\n\",\"embedded only:\\n\",\"=======================\")\n",
    "predict_review(model_bidi_lstm,my_reviews,show_padded_sequence=False)"
   ]
  },
  {
   "cell_type": "code",
   "execution_count": 49,
   "id": "28f2b2be",
   "metadata": {},
   "outputs": [
    {
     "name": "stdout",
     "output_type": "stream",
     "text": [
      "======================================================\n",
      " embedded only:\n",
      " =======================\n",
      "lovely\n",
      "[0.9996805]\n",
      "\n",
      "\n",
      "dreadful\n",
      "[0.00590442]\n",
      "\n",
      "\n",
      "stay away\n",
      "[0.00546685]\n",
      "\n",
      "\n",
      "everything was hot exactly as i wanted\n",
      "[0.9997012]\n",
      "\n",
      "\n"
     ]
    }
   ],
   "source": [
    "print(\"======================================================\\n\",\"embedded only:\\n\",\"=======================\")\n",
    "predict_review(model_multiple_bidi_lstm,my_reviews,show_padded_sequence=False)"
   ]
  },
  {
   "cell_type": "code",
   "execution_count": null,
   "id": "efa39140",
   "metadata": {},
   "outputs": [],
   "source": []
  }
 ],
 "metadata": {
  "kernelspec": {
   "display_name": "Python 3",
   "language": "python",
   "name": "python3"
  },
  "language_info": {
   "codemirror_mode": {
    "name": "ipython",
    "version": 3
   },
   "file_extension": ".py",
   "mimetype": "text/x-python",
   "name": "python",
   "nbconvert_exporter": "python",
   "pygments_lexer": "ipython3",
   "version": "3.6.13"
  }
 },
 "nbformat": 4,
 "nbformat_minor": 5
}
