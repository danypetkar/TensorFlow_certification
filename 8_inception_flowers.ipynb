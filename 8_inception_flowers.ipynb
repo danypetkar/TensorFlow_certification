{
 "cells": [
  {
   "cell_type": "code",
   "execution_count": 1,
   "id": "86b296ab",
   "metadata": {},
   "outputs": [],
   "source": [
    "import tensorflow as tf\n",
    "import numpy as np\n",
    "import matplotlib.pyplot as plt\n",
    "import tensorflow_hub as hub\n",
    "import tensorflow_datasets as tfds\n",
    "from tensorflow.keras import layers\n",
    "import logging\n",
    "logger = tf.get_logger()\n",
    "logger.setLevel(logging.ERROR)"
   ]
  },
  {
   "cell_type": "code",
   "execution_count": 2,
   "id": "44fc8b8c",
   "metadata": {},
   "outputs": [],
   "source": [
    "IMAGE_RES = 299"
   ]
  },
  {
   "cell_type": "code",
   "execution_count": 3,
   "id": "bbe88b6d",
   "metadata": {},
   "outputs": [],
   "source": [
    "(training_set,validation_set),dataset_info = tfds.load(\"tf_flowers\",\n",
    "                                                      with_info=True,\n",
    "                                                      as_supervised=True,\n",
    "                                                      split=['train[:70%]','train[70%:]'])"
   ]
  },
  {
   "cell_type": "code",
   "execution_count": 4,
   "id": "7e82eb96",
   "metadata": {},
   "outputs": [],
   "source": [
    "num_training_examples = 0\n",
    "num_validation_examples = 0\n",
    "for example in training_set:\n",
    "    num_training_examples += 1\n",
    "for example in validation_set:\n",
    "    num_validation_examples += 1"
   ]
  },
  {
   "cell_type": "code",
   "execution_count": 5,
   "id": "f381dde8",
   "metadata": {},
   "outputs": [
    {
     "data": {
      "text/plain": [
       "2569"
      ]
     },
     "execution_count": 5,
     "metadata": {},
     "output_type": "execute_result"
    }
   ],
   "source": [
    "num_training_examples"
   ]
  },
  {
   "cell_type": "code",
   "execution_count": 6,
   "id": "2f1cb2a4",
   "metadata": {},
   "outputs": [
    {
     "data": {
      "text/plain": [
       "1101"
      ]
     },
     "execution_count": 6,
     "metadata": {},
     "output_type": "execute_result"
    }
   ],
   "source": [
    "num_validation_examples"
   ]
  },
  {
   "cell_type": "code",
   "execution_count": 7,
   "id": "402623d3",
   "metadata": {},
   "outputs": [],
   "source": [
    "num_classes = dataset_info.features['label'].num_classes"
   ]
  },
  {
   "cell_type": "code",
   "execution_count": 8,
   "id": "b7419ab0",
   "metadata": {},
   "outputs": [
    {
     "data": {
      "text/plain": [
       "5"
      ]
     },
     "execution_count": 8,
     "metadata": {},
     "output_type": "execute_result"
    }
   ],
   "source": [
    "num_classes"
   ]
  },
  {
   "cell_type": "code",
   "execution_count": 11,
   "id": "a09c9c70",
   "metadata": {},
   "outputs": [],
   "source": [
    "def format_image(image,label):\n",
    "    image = tf.image.resize(image,(IMAGE_RES,IMAGE_RES))/255.0\n",
    "    return image, label"
   ]
  },
  {
   "cell_type": "code",
   "execution_count": 12,
   "id": "e8db9f8b",
   "metadata": {},
   "outputs": [],
   "source": [
    "train_batches = training_set.shuffle(num_training_examples//4).map(format_image).batch(32).prefetch(1)\n",
    "validation_batches = validation_set.map(format_image).batch(32).prefetch(1)"
   ]
  },
  {
   "cell_type": "code",
   "execution_count": 13,
   "id": "ff523273",
   "metadata": {},
   "outputs": [],
   "source": [
    "URL = \"https://tfhub.dev/google/tf2-preview/inception_v3/feature_vector/4\""
   ]
  },
  {
   "cell_type": "code",
   "execution_count": 14,
   "id": "a0d1f809",
   "metadata": {},
   "outputs": [],
   "source": [
    "feature_extractor = hub.KerasLayer(URL,\n",
    "                                  input_shape=(IMAGE_RES,IMAGE_RES,3),\n",
    "                                  trainable=False)"
   ]
  },
  {
   "cell_type": "code",
   "execution_count": 15,
   "id": "49e6e6c5",
   "metadata": {},
   "outputs": [],
   "source": [
    "model_inception = tf.keras.Sequential([\n",
    "    feature_extractor,\n",
    "    tf.keras.layers.Dense(num_classes)\n",
    "])"
   ]
  },
  {
   "cell_type": "code",
   "execution_count": 16,
   "id": "58866d1a",
   "metadata": {},
   "outputs": [
    {
     "name": "stdout",
     "output_type": "stream",
     "text": [
      "Model: \"sequential\"\n",
      "_________________________________________________________________\n",
      "Layer (type)                 Output Shape              Param #   \n",
      "=================================================================\n",
      "keras_layer (KerasLayer)     (None, 2048)              21802784  \n",
      "_________________________________________________________________\n",
      "dense (Dense)                (None, 5)                 10245     \n",
      "=================================================================\n",
      "Total params: 21,813,029\n",
      "Trainable params: 10,245\n",
      "Non-trainable params: 21,802,784\n",
      "_________________________________________________________________\n"
     ]
    }
   ],
   "source": [
    "model_inception.summary()"
   ]
  },
  {
   "cell_type": "code",
   "execution_count": 17,
   "id": "90b93ee1",
   "metadata": {},
   "outputs": [
    {
     "name": "stdout",
     "output_type": "stream",
     "text": [
      "Epoch 1/6\n",
      "81/81 [==============================] - 66s 428ms/step - loss: 0.7325 - accuracy: 0.7439 - val_loss: 0.4469 - val_accuracy: 0.8583\n",
      "Epoch 2/6\n",
      "81/81 [==============================] - 24s 300ms/step - loss: 0.3858 - accuracy: 0.8747 - val_loss: 0.3787 - val_accuracy: 0.8728\n",
      "Epoch 3/6\n",
      "81/81 [==============================] - 25s 304ms/step - loss: 0.3031 - accuracy: 0.8996 - val_loss: 0.3231 - val_accuracy: 0.8910\n",
      "Epoch 4/6\n",
      "81/81 [==============================] - 25s 308ms/step - loss: 0.2615 - accuracy: 0.9190 - val_loss: 0.2957 - val_accuracy: 0.8974\n",
      "Epoch 5/6\n",
      "81/81 [==============================] - 24s 301ms/step - loss: 0.2225 - accuracy: 0.9319 - val_loss: 0.2856 - val_accuracy: 0.8992\n",
      "Epoch 6/6\n",
      "81/81 [==============================] - 24s 299ms/step - loss: 0.2026 - accuracy: 0.9404 - val_loss: 0.2960 - val_accuracy: 0.8955\n"
     ]
    },
    {
     "data": {
      "image/png": "[encoded data removed]",
      "text/plain": [
       "<Figure size 576x288 with 2 Axes>"
      ]
     },
     "metadata": {
      "needs_background": "light"
     },
     "output_type": "display_data"
    }
   ],
   "source": [
    "model_inception.compile(optimizer='adam',\n",
    "                       loss=tf.keras.losses.SparseCategoricalCrossentropy(from_logits=True),metrics=['accuracy'])\n",
    "Epochs = 6\n",
    "history = model_inception.fit(train_batches,epochs=Epochs,\n",
    "                             validation_data=validation_batches)\n",
    "#plot Training\n",
    "acc = history.history['accuracy']\n",
    "val_acc = history.history['val_accuracy']\n",
    "loss = history.history['loss']\n",
    "val_loss = history.history['val_loss']\n",
    "epochs_range = range(Epochs)\n",
    "plt.figure(figsize=(8,4))\n",
    "plt.subplot(1,2,1)\n",
    "plt.plot(epochs_range,acc,label='Train Accuracy')\n",
    "plt.plot(epochs_range,val_acc,label='Val_Accuracy')\n",
    "plt.legend(loc=0)\n",
    "plt.subplot(1,2,2)\n",
    "plt.plot(epochs_range,loss,label='Train Loss')\n",
    "plt.plot(epochs_range,val_loss,label='Validation Loss')\n",
    "plt.legend(loc=0)\n",
    "plt.show()"
   ]
  },
  {
   "cell_type": "code",
   "execution_count": null,
   "id": "41a31bae",
   "metadata": {},
   "outputs": [],
   "source": [
    "class_names = np.array(dataset_info.features['label'].names)\n",
    "image_batch,label_batch = next(iter(train_batches))\n",
    "image_batch = image_batch.numpy()\n",
    "label_batch = label_batch.numpy()\n",
    "predicted_batch = model.predict(image_batch)\n",
    "predicted_batch = tf.squeeze(predicted_batch).numpy()\n",
    "predicted_ids = np.argmax(predicted_batch,axis=-1)\n"
   ]
  }
 ],
 "metadata": {
  "kernelspec": {
   "display_name": "Python 3",
   "language": "python",
   "name": "python3"
  },
  "language_info": {
   "codemirror_mode": {
    "name": "ipython",
    "version": 3
   },
   "file_extension": ".py",
   "mimetype": "text/x-python",
   "name": "python",
   "nbconvert_exporter": "python",
   "pygments_lexer": "ipython3",
   "version": "3.6.13"
  }
 },
 "nbformat": 4,
 "nbformat_minor": 5
}
