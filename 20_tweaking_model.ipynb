{
 "cells": [
  {
   "cell_type": "code",
   "execution_count": 1,
   "id": "24ae86ad",
   "metadata": {},
   "outputs": [],
   "source": [
    "import tensorflow as tf\n",
    "from tensorflow.keras.preprocessing.text import Tokenizer\n",
    "from tensorflow.keras.preprocessing.sequence import pad_sequences\n",
    "import numpy as np\n",
    "import pandas as pd"
   ]
  },
  {
   "cell_type": "code",
   "execution_count": 2,
   "id": "c8c75124",
   "metadata": {},
   "outputs": [],
   "source": [
    "dataset = pd.read_csv('C:\\\\Users\\\\dany\\\\.keras\\\\datasets\\\\reviews.csv')"
   ]
  },
  {
   "cell_type": "code",
   "execution_count": 4,
   "id": "908ef88a",
   "metadata": {},
   "outputs": [],
   "source": [
    "sentences = dataset['text'].tolist()\n",
    "\n",
    "labels = dataset['sentiment'].tolist()\n",
    "training_size = int(len(sentences)*0.8)\n",
    "training_sentences = sentences[0:training_size]\n",
    "testing_sentences = sentences[training_size:]\n",
    "training_labels = labels[0:training_size]\n",
    "testing_labels = labels[training_size:]\n",
    "training_labels_final = np.array(training_labels)\n",
    "testing_labels_final = np.array(testing_labels)\n",
    "\n",
    "vocab_size = 500\n",
    "embedding_dim = 16\n",
    "max_length = 50\n",
    "trunc_type = 'post'\n",
    "padding_type = 'post'\n",
    "oov_tok = '<OOV>'"
   ]
  },
  {
   "cell_type": "code",
   "execution_count": 8,
   "id": "f1d2fd97",
   "metadata": {},
   "outputs": [],
   "source": [
    "tokenizer = Tokenizer(num_words=vocab_size,oov_token=oov_tok)\n",
    "tokenizer.fit_on_texts(training_sentences)\n",
    "word_index = tokenizer.word_index\n",
    "sequences = tokenizer.texts_to_sequences(training_sentences)\n",
    "training_padded = pad_sequences(sequences,maxlen=max_length,padding=padding_type,truncating=trunc_type)\n",
    "\n",
    "\n",
    "testing_sequences = tokenizer.texts_to_sequences(testing_sentences)\n",
    "testing_padded = pad_sequences(testing_sequences,maxlen=max_length,padding=padding_type,truncating=trunc_type)"
   ]
  },
  {
   "cell_type": "code",
   "execution_count": 6,
   "id": "5403e92c",
   "metadata": {},
   "outputs": [],
   "source": [
    "model = tf.keras.Sequential([\n",
    "    tf.keras.layers.Embedding(vocab_size,embedding_dim,input_length=max_length),\n",
    "    tf.keras.layers.GlobalAveragePooling1D(),\n",
    "    tf.keras.layers.Dense(6,activation='relu'),\n",
    "    tf.keras.layers.Dense(1,activation='sigmoid')\n",
    "])"
   ]
  },
  {
   "cell_type": "code",
   "execution_count": 7,
   "id": "2d820270",
   "metadata": {},
   "outputs": [
    {
     "name": "stdout",
     "output_type": "stream",
     "text": [
      "Model: \"sequential\"\n",
      "_________________________________________________________________\n",
      "Layer (type)                 Output Shape              Param #   \n",
      "=================================================================\n",
      "embedding (Embedding)        (None, 50, 16)            8000      \n",
      "_________________________________________________________________\n",
      "global_average_pooling1d (Gl (None, 16)                0         \n",
      "_________________________________________________________________\n",
      "dense (Dense)                (None, 6)                 102       \n",
      "_________________________________________________________________\n",
      "dense_1 (Dense)              (None, 1)                 7         \n",
      "=================================================================\n",
      "Total params: 8,109\n",
      "Trainable params: 8,109\n",
      "Non-trainable params: 0\n",
      "_________________________________________________________________\n"
     ]
    }
   ],
   "source": [
    "model.summary()"
   ]
  },
  {
   "cell_type": "code",
   "execution_count": 9,
   "id": "54b2cd6f",
   "metadata": {},
   "outputs": [
    {
     "name": "stdout",
     "output_type": "stream",
     "text": [
      "Epoch 1/30\n",
      "50/50 [==============================] - 3s 18ms/step - loss: 0.6929 - accuracy: 0.5210 - val_loss: 0.6935 - val_accuracy: 0.4411\n",
      "Epoch 2/30\n",
      "50/50 [==============================] - 0s 6ms/step - loss: 0.6924 - accuracy: 0.5210 - val_loss: 0.6924 - val_accuracy: 0.5238\n",
      "Epoch 3/30\n",
      "50/50 [==============================] - 0s 5ms/step - loss: 0.6905 - accuracy: 0.5982 - val_loss: 0.6915 - val_accuracy: 0.5238\n",
      "Epoch 4/30\n",
      "50/50 [==============================] - 0s 5ms/step - loss: 0.6879 - accuracy: 0.6315 - val_loss: 0.6880 - val_accuracy: 0.6391\n",
      "Epoch 5/30\n",
      "50/50 [==============================] - 0s 4ms/step - loss: 0.6835 - accuracy: 0.7288 - val_loss: 0.6808 - val_accuracy: 0.7168\n",
      "Epoch 6/30\n",
      "50/50 [==============================] - 0s 4ms/step - loss: 0.6763 - accuracy: 0.7640 - val_loss: 0.6700 - val_accuracy: 0.7419\n",
      "Epoch 7/30\n",
      "50/50 [==============================] - 0s 4ms/step - loss: 0.6570 - accuracy: 0.7514 - val_loss: 0.6614 - val_accuracy: 0.6667\n",
      "Epoch 8/30\n",
      "50/50 [==============================] - 0s 5ms/step - loss: 0.6344 - accuracy: 0.7659 - val_loss: 0.6414 - val_accuracy: 0.7168\n",
      "Epoch 9/30\n",
      "50/50 [==============================] - 0s 4ms/step - loss: 0.6086 - accuracy: 0.7960 - val_loss: 0.6220 - val_accuracy: 0.7519\n",
      "Epoch 10/30\n",
      "50/50 [==============================] - 0s 4ms/step - loss: 0.5795 - accuracy: 0.8154 - val_loss: 0.6041 - val_accuracy: 0.7569\n",
      "Epoch 11/30\n",
      "50/50 [==============================] - 0s 4ms/step - loss: 0.5513 - accuracy: 0.8211 - val_loss: 0.6018 - val_accuracy: 0.6717\n",
      "Epoch 12/30\n",
      "50/50 [==============================] - 0s 4ms/step - loss: 0.5222 - accuracy: 0.8242 - val_loss: 0.5684 - val_accuracy: 0.7594\n",
      "Epoch 13/30\n",
      "50/50 [==============================] - 0s 4ms/step - loss: 0.4924 - accuracy: 0.8418 - val_loss: 0.5605 - val_accuracy: 0.7243\n",
      "Epoch 14/30\n",
      "50/50 [==============================] - 0s 4ms/step - loss: 0.4664 - accuracy: 0.8487 - val_loss: 0.5405 - val_accuracy: 0.7494\n",
      "Epoch 15/30\n",
      "50/50 [==============================] - 0s 4ms/step - loss: 0.4438 - accuracy: 0.8475 - val_loss: 0.5164 - val_accuracy: 0.7794\n",
      "Epoch 16/30\n",
      "50/50 [==============================] - 0s 4ms/step - loss: 0.4232 - accuracy: 0.8581 - val_loss: 0.5127 - val_accuracy: 0.7845\n",
      "Epoch 17/30\n",
      "50/50 [==============================] - 0s 4ms/step - loss: 0.4011 - accuracy: 0.8644 - val_loss: 0.5136 - val_accuracy: 0.7544\n",
      "Epoch 18/30\n",
      "50/50 [==============================] - 0s 4ms/step - loss: 0.3850 - accuracy: 0.8638 - val_loss: 0.5039 - val_accuracy: 0.7569\n",
      "Epoch 19/30\n",
      "50/50 [==============================] - 0s 4ms/step - loss: 0.3691 - accuracy: 0.8650 - val_loss: 0.5106 - val_accuracy: 0.7393\n",
      "Epoch 20/30\n",
      "50/50 [==============================] - 0s 4ms/step - loss: 0.3545 - accuracy: 0.8751 - val_loss: 0.5087 - val_accuracy: 0.7368\n",
      "Epoch 21/30\n",
      "50/50 [==============================] - 0s 3ms/step - loss: 0.3408 - accuracy: 0.8738 - val_loss: 0.5022 - val_accuracy: 0.7393\n",
      "Epoch 22/30\n",
      "50/50 [==============================] - 0s 3ms/step - loss: 0.3281 - accuracy: 0.8788 - val_loss: 0.4999 - val_accuracy: 0.7469\n",
      "Epoch 23/30\n",
      "50/50 [==============================] - 0s 4ms/step - loss: 0.3174 - accuracy: 0.8851 - val_loss: 0.4882 - val_accuracy: 0.7694\n",
      "Epoch 24/30\n",
      "50/50 [==============================] - 0s 4ms/step - loss: 0.3078 - accuracy: 0.8851 - val_loss: 0.5102 - val_accuracy: 0.7318\n",
      "Epoch 25/30\n",
      "50/50 [==============================] - 0s 4ms/step - loss: 0.2999 - accuracy: 0.8876 - val_loss: 0.4862 - val_accuracy: 0.7669\n",
      "Epoch 26/30\n",
      "50/50 [==============================] - 0s 4ms/step - loss: 0.2904 - accuracy: 0.8970 - val_loss: 0.4971 - val_accuracy: 0.7444\n",
      "Epoch 27/30\n",
      "50/50 [==============================] - 0s 4ms/step - loss: 0.2815 - accuracy: 0.8945 - val_loss: 0.4894 - val_accuracy: 0.7644\n",
      "Epoch 28/30\n",
      "50/50 [==============================] - 0s 4ms/step - loss: 0.2730 - accuracy: 0.8970 - val_loss: 0.4835 - val_accuracy: 0.7644\n",
      "Epoch 29/30\n",
      "50/50 [==============================] - 0s 4ms/step - loss: 0.2669 - accuracy: 0.9027 - val_loss: 0.4835 - val_accuracy: 0.7694\n",
      "Epoch 30/30\n",
      "50/50 [==============================] - 0s 4ms/step - loss: 0.2611 - accuracy: 0.9021 - val_loss: 0.5265 - val_accuracy: 0.7268\n"
     ]
    }
   ],
   "source": [
    "model.compile(loss='binary_crossentropy',optimizer='adam',metrics=['accuracy'])\n",
    "num_epochs = 30\n",
    "history = model.fit(training_padded,training_labels_final,epochs=num_epochs,validation_data=(testing_padded,testing_labels_final))"
   ]
  },
  {
   "cell_type": "code",
   "execution_count": 10,
   "id": "8635d557",
   "metadata": {},
   "outputs": [],
   "source": [
    "import matplotlib.pyplot as plt\n",
    "def plot_graphs(history,string):\n",
    "    plt.plot(history.history[string])\n",
    "    plt.plot(history.history['val_'+string])\n",
    "    plt.xlabel('Epochs')\n",
    "    plt.ylabel('string')\n",
    "    plt.legend([string,'val_'+string])\n",
    "    plt.show()\n",
    "    "
   ]
  },
  {
   "cell_type": "code",
   "execution_count": 11,
   "id": "cf214d7f",
   "metadata": {},
   "outputs": [
    {
     "data": {
      "image/png": "[encoded data removed]",
      "text/plain": [
       "<Figure size 432x288 with 1 Axes>"
      ]
     },
     "metadata": {
      "needs_background": "light"
     },
     "output_type": "display_data"
    }
   ],
   "source": [
    "plot_graphs(history,'accuracy')"
   ]
  },
  {
   "cell_type": "code",
   "execution_count": 12,
   "id": "a8a29c0c",
   "metadata": {},
   "outputs": [
    {
     "data": {
      "image/png": "[encoded data removed]",
      "text/plain": [
       "<Figure size 432x288 with 1 Axes>"
      ]
     },
     "metadata": {
      "needs_background": "light"
     },
     "output_type": "display_data"
    }
   ],
   "source": [
    "\n",
    "plot_graphs(history,'loss')"
   ]
  },
  {
   "cell_type": "code",
   "execution_count": null,
   "id": "a4659c98",
   "metadata": {},
   "outputs": [],
   "source": [
    "\n",
    "\n"
   ]
  }
 ],
 "metadata": {
  "kernelspec": {
   "display_name": "Python 3",
   "language": "python",
   "name": "python3"
  },
  "language_info": {
   "codemirror_mode": {
    "name": "ipython",
    "version": 3
   },
   "file_extension": ".py",
   "mimetype": "text/x-python",
   "name": "python",
   "nbconvert_exporter": "python",
   "pygments_lexer": "ipython3",
   "version": "3.6.13"
  }
 },
 "nbformat": 4,
 "nbformat_minor": 5
}
